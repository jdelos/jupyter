{
 "cells": [
  {
   "cell_type": "code",
   "execution_count": 15,
   "metadata": {
    "collapsed": false
   },
   "outputs": [
    {
     "data": {
      "text/html": [
       "\n",
       "    <div class=\"bk-root\">\n",
       "        <a href=\"http://bokeh.pydata.org\" target=\"_blank\" class=\"bk-logo bk-logo-small bk-logo-notebook\"></a>\n",
       "        <span id=\"c5af8744-6fad-429f-a42a-48a40b1ff3db\">Loading BokehJS ...</span>\n",
       "    </div>"
      ]
     },
     "metadata": {},
     "output_type": "display_data"
    },
    {
     "data": {
      "application/javascript": [
       "\n",
       "(function(global) {\n",
       "  function now() {\n",
       "    return new Date();\n",
       "  }\n",
       "\n",
       "  var force = \"1\";\n",
       "\n",
       "  if (typeof (window._bokeh_onload_callbacks) === \"undefined\" || force !== \"\") {\n",
       "    window._bokeh_onload_callbacks = [];\n",
       "    window._bokeh_is_loading = undefined;\n",
       "  }\n",
       "\n",
       "\n",
       "  \n",
       "  if (typeof (window._bokeh_timeout) === \"undefined\" || force !== \"\") {\n",
       "    window._bokeh_timeout = Date.now() + 5000;\n",
       "    window._bokeh_failed_load = false;\n",
       "  }\n",
       "\n",
       "  var NB_LOAD_WARNING = {'data': {'text/html':\n",
       "     \"<div style='background-color: #fdd'>\\n\"+\n",
       "     \"<p>\\n\"+\n",
       "     \"BokehJS does not appear to have successfully loaded. If loading BokehJS from CDN, this \\n\"+\n",
       "     \"may be due to a slow or bad network connection. Possible fixes:\\n\"+\n",
       "     \"</p>\\n\"+\n",
       "     \"<ul>\\n\"+\n",
       "     \"<li>re-rerun `output_notebook()` to attempt to load from CDN again, or</li>\\n\"+\n",
       "     \"<li>use INLINE resources instead, as so:</li>\\n\"+\n",
       "     \"</ul>\\n\"+\n",
       "     \"<code>\\n\"+\n",
       "     \"from bokeh.resources import INLINE\\n\"+\n",
       "     \"output_notebook(resources=INLINE)\\n\"+\n",
       "     \"</code>\\n\"+\n",
       "     \"</div>\"}};\n",
       "\n",
       "  function display_loaded() {\n",
       "    if (window.Bokeh !== undefined) {\n",
       "      Bokeh.$(\"#c5af8744-6fad-429f-a42a-48a40b1ff3db\").text(\"BokehJS successfully loaded.\");\n",
       "    } else if (Date.now() < window._bokeh_timeout) {\n",
       "      setTimeout(display_loaded, 100)\n",
       "    }\n",
       "  }\n",
       "\n",
       "  function run_callbacks() {\n",
       "    window._bokeh_onload_callbacks.forEach(function(callback) { callback() });\n",
       "    delete window._bokeh_onload_callbacks\n",
       "    console.info(\"Bokeh: all callbacks have finished\");\n",
       "  }\n",
       "\n",
       "  function load_libs(js_urls, callback) {\n",
       "    window._bokeh_onload_callbacks.push(callback);\n",
       "    if (window._bokeh_is_loading > 0) {\n",
       "      console.log(\"Bokeh: BokehJS is being loaded, scheduling callback at\", now());\n",
       "      return null;\n",
       "    }\n",
       "    if (js_urls == null || js_urls.length === 0) {\n",
       "      run_callbacks();\n",
       "      return null;\n",
       "    }\n",
       "    console.log(\"Bokeh: BokehJS not loaded, scheduling load and callback at\", now());\n",
       "    window._bokeh_is_loading = js_urls.length;\n",
       "    for (var i = 0; i < js_urls.length; i++) {\n",
       "      var url = js_urls[i];\n",
       "      var s = document.createElement('script');\n",
       "      s.src = url;\n",
       "      s.async = false;\n",
       "      s.onreadystatechange = s.onload = function() {\n",
       "        window._bokeh_is_loading--;\n",
       "        if (window._bokeh_is_loading === 0) {\n",
       "          console.log(\"Bokeh: all BokehJS libraries loaded\");\n",
       "          run_callbacks()\n",
       "        }\n",
       "      };\n",
       "      s.onerror = function() {\n",
       "        console.warn(\"failed to load library \" + url);\n",
       "      };\n",
       "      console.log(\"Bokeh: injecting script tag for BokehJS library: \", url);\n",
       "      document.getElementsByTagName(\"head\")[0].appendChild(s);\n",
       "    }\n",
       "  };var element = document.getElementById(\"c5af8744-6fad-429f-a42a-48a40b1ff3db\");\n",
       "  if (element == null) {\n",
       "    console.log(\"Bokeh: ERROR: autoload.js configured with elementid 'c5af8744-6fad-429f-a42a-48a40b1ff3db' but no matching script tag was found. \")\n",
       "    return false;\n",
       "  }\n",
       "\n",
       "  var js_urls = ['https://cdn.pydata.org/bokeh/release/bokeh-0.12.3.min.js', 'https://cdn.pydata.org/bokeh/release/bokeh-widgets-0.12.3.min.js'];\n",
       "\n",
       "  var inline_js = [\n",
       "    function(Bokeh) {\n",
       "      Bokeh.set_log_level(\"info\");\n",
       "    },\n",
       "    \n",
       "    function(Bokeh) {\n",
       "      \n",
       "      Bokeh.$(\"#c5af8744-6fad-429f-a42a-48a40b1ff3db\").text(\"BokehJS is loading...\");\n",
       "    },\n",
       "    function(Bokeh) {\n",
       "      console.log(\"Bokeh: injecting CSS: https://cdn.pydata.org/bokeh/release/bokeh-0.12.3.min.css\");\n",
       "      Bokeh.embed.inject_css(\"https://cdn.pydata.org/bokeh/release/bokeh-0.12.3.min.css\");\n",
       "      console.log(\"Bokeh: injecting CSS: https://cdn.pydata.org/bokeh/release/bokeh-widgets-0.12.3.min.css\");\n",
       "      Bokeh.embed.inject_css(\"https://cdn.pydata.org/bokeh/release/bokeh-widgets-0.12.3.min.css\");\n",
       "    }\n",
       "  ];\n",
       "\n",
       "  function run_inline_js() {\n",
       "    \n",
       "    if ((window.Bokeh !== undefined) || (force === \"1\")) {\n",
       "      for (var i = 0; i < inline_js.length; i++) {\n",
       "        inline_js[i](window.Bokeh);\n",
       "      }if (force === \"1\") {\n",
       "        display_loaded();\n",
       "      }} else if (Date.now() < window._bokeh_timeout) {\n",
       "      setTimeout(run_inline_js, 100);\n",
       "    } else if (!window._bokeh_failed_load) {\n",
       "      console.log(\"Bokeh: BokehJS failed to load within specified timeout.\");\n",
       "      window._bokeh_failed_load = true;\n",
       "    } else if (!force) {\n",
       "      var cell = $(\"#c5af8744-6fad-429f-a42a-48a40b1ff3db\").parents('.cell').data().cell;\n",
       "      cell.output_area.append_execute_result(NB_LOAD_WARNING)\n",
       "    }\n",
       "\n",
       "  }\n",
       "\n",
       "  if (window._bokeh_is_loading === 0) {\n",
       "    console.log(\"Bokeh: BokehJS loaded, going straight to plotting\");\n",
       "    run_inline_js();\n",
       "  } else {\n",
       "    load_libs(js_urls, function() {\n",
       "      console.log(\"Bokeh: BokehJS plotting callback run at\", now());\n",
       "      run_inline_js();\n",
       "    });\n",
       "  }\n",
       "}(this));"
      ]
     },
     "metadata": {},
     "output_type": "display_data"
    },
    {
     "data": {
      "text/html": [
       "\n",
       "\n",
       "    <div class=\"bk-root\">\n",
       "        <div class=\"plotdiv\" id=\"a70d1093-6ef2-4b14-8019-edbdfbab0084\"></div>\n",
       "    </div>\n",
       "<script type=\"text/javascript\">\n",
       "  \n",
       "  (function(global) {\n",
       "    function now() {\n",
       "      return new Date();\n",
       "    }\n",
       "  \n",
       "    var force = \"\";\n",
       "  \n",
       "    if (typeof (window._bokeh_onload_callbacks) === \"undefined\" || force !== \"\") {\n",
       "      window._bokeh_onload_callbacks = [];\n",
       "      window._bokeh_is_loading = undefined;\n",
       "    }\n",
       "  \n",
       "  \n",
       "    \n",
       "    if (typeof (window._bokeh_timeout) === \"undefined\" || force !== \"\") {\n",
       "      window._bokeh_timeout = Date.now() + 0;\n",
       "      window._bokeh_failed_load = false;\n",
       "    }\n",
       "  \n",
       "    var NB_LOAD_WARNING = {'data': {'text/html':\n",
       "       \"<div style='background-color: #fdd'>\\n\"+\n",
       "       \"<p>\\n\"+\n",
       "       \"BokehJS does not appear to have successfully loaded. If loading BokehJS from CDN, this \\n\"+\n",
       "       \"may be due to a slow or bad network connection. Possible fixes:\\n\"+\n",
       "       \"</p>\\n\"+\n",
       "       \"<ul>\\n\"+\n",
       "       \"<li>re-rerun `output_notebook()` to attempt to load from CDN again, or</li>\\n\"+\n",
       "       \"<li>use INLINE resources instead, as so:</li>\\n\"+\n",
       "       \"</ul>\\n\"+\n",
       "       \"<code>\\n\"+\n",
       "       \"from bokeh.resources import INLINE\\n\"+\n",
       "       \"output_notebook(resources=INLINE)\\n\"+\n",
       "       \"</code>\\n\"+\n",
       "       \"</div>\"}};\n",
       "  \n",
       "    function display_loaded() {\n",
       "      if (window.Bokeh !== undefined) {\n",
       "        Bokeh.$(\"#a70d1093-6ef2-4b14-8019-edbdfbab0084\").text(\"BokehJS successfully loaded.\");\n",
       "      } else if (Date.now() < window._bokeh_timeout) {\n",
       "        setTimeout(display_loaded, 100)\n",
       "      }\n",
       "    }\n",
       "  \n",
       "    function run_callbacks() {\n",
       "      window._bokeh_onload_callbacks.forEach(function(callback) { callback() });\n",
       "      delete window._bokeh_onload_callbacks\n",
       "      console.info(\"Bokeh: all callbacks have finished\");\n",
       "    }\n",
       "  \n",
       "    function load_libs(js_urls, callback) {\n",
       "      window._bokeh_onload_callbacks.push(callback);\n",
       "      if (window._bokeh_is_loading > 0) {\n",
       "        console.log(\"Bokeh: BokehJS is being loaded, scheduling callback at\", now());\n",
       "        return null;\n",
       "      }\n",
       "      if (js_urls == null || js_urls.length === 0) {\n",
       "        run_callbacks();\n",
       "        return null;\n",
       "      }\n",
       "      console.log(\"Bokeh: BokehJS not loaded, scheduling load and callback at\", now());\n",
       "      window._bokeh_is_loading = js_urls.length;\n",
       "      for (var i = 0; i < js_urls.length; i++) {\n",
       "        var url = js_urls[i];\n",
       "        var s = document.createElement('script');\n",
       "        s.src = url;\n",
       "        s.async = false;\n",
       "        s.onreadystatechange = s.onload = function() {\n",
       "          window._bokeh_is_loading--;\n",
       "          if (window._bokeh_is_loading === 0) {\n",
       "            console.log(\"Bokeh: all BokehJS libraries loaded\");\n",
       "            run_callbacks()\n",
       "          }\n",
       "        };\n",
       "        s.onerror = function() {\n",
       "          console.warn(\"failed to load library \" + url);\n",
       "        };\n",
       "        console.log(\"Bokeh: injecting script tag for BokehJS library: \", url);\n",
       "        document.getElementsByTagName(\"head\")[0].appendChild(s);\n",
       "      }\n",
       "    };var element = document.getElementById(\"a70d1093-6ef2-4b14-8019-edbdfbab0084\");\n",
       "    if (element == null) {\n",
       "      console.log(\"Bokeh: ERROR: autoload.js configured with elementid 'a70d1093-6ef2-4b14-8019-edbdfbab0084' but no matching script tag was found. \")\n",
       "      return false;\n",
       "    }\n",
       "  \n",
       "    var js_urls = [];\n",
       "  \n",
       "    var inline_js = [\n",
       "      function(Bokeh) {\n",
       "        Bokeh.$(function() {\n",
       "            var docs_json = {\"0635c88b-285c-442f-bef2-2ff6a30761fa\":{\"roots\":{\"references\":[{\"attributes\":{\"data_source\":{\"id\":\"650a218b-7729-4833-8d14-aeaf28ae25c1\",\"type\":\"ColumnDataSource\"},\"glyph\":{\"id\":\"08baf28a-e967-4982-a529-37e43509cb5a\",\"type\":\"Rect\"},\"hover_glyph\":null,\"nonselection_glyph\":null,\"selection_glyph\":null},\"id\":\"37e60bf7-c1fe-4276-8d4f-e608c36b4ba9\",\"type\":\"GlyphRenderer\"},{\"attributes\":{\"label\":{\"value\":\"6\"},\"renderers\":[{\"id\":\"721973a2-d870-4783-a05a-664d9e165df3\",\"type\":\"GlyphRenderer\"}]},\"id\":\"643291a6-60ff-472c-9d86-8defdde60f5b\",\"type\":\"LegendItem\"},{\"attributes\":{\"label\":{\"value\":\"8\"},\"renderers\":[{\"id\":\"f85bd807-09cb-49b9-ab93-68da5eb8734d\",\"type\":\"GlyphRenderer\"}]},\"id\":\"60bf4fee-488b-4311-8682-10295db9121d\",\"type\":\"LegendItem\"},{\"attributes\":{},\"id\":\"07bf0b57-3815-458c-8158-242e5c37c5dc\",\"type\":\"ToolEvents\"},{\"attributes\":{\"fill_alpha\":{\"field\":\"fill_alpha\"},\"fill_color\":{\"field\":\"color\"},\"height\":{\"field\":\"height\",\"units\":\"data\"},\"line_color\":{\"field\":\"line_color\"},\"width\":{\"field\":\"width\",\"units\":\"data\"},\"x\":{\"field\":\"x\"},\"y\":{\"field\":\"y\"}},\"id\":\"66f90d54-1642-4233-bed9-76efcaa1ceb4\",\"type\":\"Rect\"},{\"attributes\":{\"plot\":{\"id\":\"af544724-7bc6-43e1-b973-ba04cebb428f\",\"subtype\":\"Chart\",\"type\":\"Plot\"}},\"id\":\"388af28f-9ec7-4e75-a077-688e49f7bfeb\",\"type\":\"WheelZoomTool\"},{\"attributes\":{\"fill_alpha\":{\"field\":\"fill_alpha\"},\"fill_color\":{\"field\":\"color\"},\"height\":{\"field\":\"height\",\"units\":\"data\"},\"line_color\":{\"field\":\"line_color\"},\"width\":{\"field\":\"width\",\"units\":\"data\"},\"x\":{\"field\":\"x\"},\"y\":{\"field\":\"y\"}},\"id\":\"b58e2723-4189-40d0-8667-f48553311338\",\"type\":\"Rect\"},{\"attributes\":{\"plot\":{\"id\":\"af544724-7bc6-43e1-b973-ba04cebb428f\",\"subtype\":\"Chart\",\"type\":\"Plot\"}},\"id\":\"e4466862-e659-4a81-8c7e-71ef430044ab\",\"type\":\"ResetTool\"},{\"attributes\":{\"label\":{\"value\":\"5\"},\"renderers\":[{\"id\":\"5e354674-430b-4c63-8691-54e439c460f6\",\"type\":\"GlyphRenderer\"}]},\"id\":\"b1b35401-7112-4071-8ac0-85e40aa1b088\",\"type\":\"LegendItem\"},{\"attributes\":{\"axis_label\":\"Mean( Mpg )\",\"formatter\":{\"id\":\"50dad794-dd69-4e73-bf29-76890117a9bc\",\"type\":\"BasicTickFormatter\"},\"plot\":{\"id\":\"af544724-7bc6-43e1-b973-ba04cebb428f\",\"subtype\":\"Chart\",\"type\":\"Plot\"},\"ticker\":{\"id\":\"f191b0a1-d071-4d4c-a852-6d819fea9823\",\"type\":\"BasicTicker\"}},\"id\":\"8b5c4163-a4c6-4c60-a318-7ff56c472c08\",\"type\":\"LinearAxis\"},{\"attributes\":{\"fill_alpha\":{\"field\":\"fill_alpha\"},\"fill_color\":{\"field\":\"color\"},\"height\":{\"field\":\"height\",\"units\":\"data\"},\"line_color\":{\"field\":\"line_color\"},\"width\":{\"field\":\"width\",\"units\":\"data\"},\"x\":{\"field\":\"x\"},\"y\":{\"field\":\"y\"}},\"id\":\"c6007211-51ed-4760-ae42-7be9adb807bf\",\"type\":\"Rect\"},{\"attributes\":{\"callback\":null,\"column_names\":[\"line_color\",\"line_alpha\",\"color\",\"fill_alpha\",\"height\",\"width\",\"y\",\"x\",\"label\"],\"data\":{\"chart_index\":[{\"cyl\":4,\"origin\":2}],\"color\":[\"#5ab738\"],\"cyl\":[4],\"fill_alpha\":[0.8],\"height\":[28.10655737704918],\"label\":[{\"cyl\":4,\"origin\":2}],\"line_alpha\":[1.0],\"line_color\":[\"white\"],\"origin\":[2],\"width\":[0.8],\"x\":[\"2\"],\"y\":[14.05327868852459]}},\"id\":\"2fd1f4a1-9c57-4eba-a935-595ec0b06d4b\",\"type\":\"ColumnDataSource\"},{\"attributes\":{\"items\":[{\"id\":\"60bf4fee-488b-4311-8682-10295db9121d\",\"type\":\"LegendItem\"},{\"id\":\"4b1ae7c2-d380-4302-be33-5fddb2b9df73\",\"type\":\"LegendItem\"},{\"id\":\"643291a6-60ff-472c-9d86-8defdde60f5b\",\"type\":\"LegendItem\"},{\"id\":\"4d9d8644-f04b-4728-9db9-229011316b91\",\"type\":\"LegendItem\"},{\"id\":\"b1b35401-7112-4071-8ac0-85e40aa1b088\",\"type\":\"LegendItem\"}],\"plot\":{\"id\":\"af544724-7bc6-43e1-b973-ba04cebb428f\",\"subtype\":\"Chart\",\"type\":\"Plot\"}},\"id\":\"7aa9b720-44de-4223-89ad-051c4edbfe94\",\"type\":\"Legend\"},{\"attributes\":{\"fill_alpha\":{\"field\":\"fill_alpha\"},\"fill_color\":{\"field\":\"color\"},\"height\":{\"field\":\"height\",\"units\":\"data\"},\"line_color\":{\"field\":\"line_color\"},\"width\":{\"field\":\"width\",\"units\":\"data\"},\"x\":{\"field\":\"x\"},\"y\":{\"field\":\"y\"}},\"id\":\"e6213724-2999-4882-b61f-ac4d86bb4e34\",\"type\":\"Rect\"},{\"attributes\":{\"data_source\":{\"id\":\"152ee803-2f6c-4cd2-a414-81853638adae\",\"type\":\"ColumnDataSource\"},\"glyph\":{\"id\":\"b58e2723-4189-40d0-8667-f48553311338\",\"type\":\"Rect\"},\"hover_glyph\":null,\"nonselection_glyph\":null,\"selection_glyph\":null},\"id\":\"721973a2-d870-4783-a05a-664d9e165df3\",\"type\":\"GlyphRenderer\"},{\"attributes\":{\"plot\":{\"id\":\"af544724-7bc6-43e1-b973-ba04cebb428f\",\"subtype\":\"Chart\",\"type\":\"Plot\"}},\"id\":\"67e4cefc-5995-4df7-82a8-8a22dcf6302b\",\"type\":\"SaveTool\"},{\"attributes\":{\"callback\":null,\"column_names\":[\"line_color\",\"line_alpha\",\"color\",\"fill_alpha\",\"height\",\"width\",\"y\",\"x\",\"label\"],\"data\":{\"chart_index\":[{\"cyl\":4,\"origin\":3}],\"color\":[\"#5ab738\"],\"cyl\":[4],\"fill_alpha\":[0.8],\"height\":[31.59565217391304],\"label\":[{\"cyl\":4,\"origin\":3}],\"line_alpha\":[1.0],\"line_color\":[\"white\"],\"origin\":[3],\"width\":[0.8],\"x\":[\"3\"],\"y\":[15.79782608695652]}},\"id\":\"650a218b-7729-4833-8d14-aeaf28ae25c1\",\"type\":\"ColumnDataSource\"},{\"attributes\":{\"active_drag\":\"auto\",\"active_scroll\":\"auto\",\"active_tap\":\"auto\",\"tools\":[{\"id\":\"bf5d5cd5-fe6d-4d11-9026-76b6ebf9fd7c\",\"type\":\"PanTool\"},{\"id\":\"388af28f-9ec7-4e75-a077-688e49f7bfeb\",\"type\":\"WheelZoomTool\"},{\"id\":\"a1bfd6b6-bf67-4062-904d-193da488b49c\",\"type\":\"BoxZoomTool\"},{\"id\":\"67e4cefc-5995-4df7-82a8-8a22dcf6302b\",\"type\":\"SaveTool\"},{\"id\":\"e4466862-e659-4a81-8c7e-71ef430044ab\",\"type\":\"ResetTool\"},{\"id\":\"aba6b30c-2613-431c-b6ea-249d873a0750\",\"type\":\"HelpTool\"}]},\"id\":\"2642f665-f47d-4cb6-bdb9-756462afabc9\",\"type\":\"Toolbar\"},{\"attributes\":{\"label\":{\"value\":\"3\"},\"renderers\":[{\"id\":\"48d60c2f-f4dc-4687-be0b-5b18794d5e2a\",\"type\":\"GlyphRenderer\"}]},\"id\":\"4d9d8644-f04b-4728-9db9-229011316b91\",\"type\":\"LegendItem\"},{\"attributes\":{\"overlay\":{\"id\":\"ea0e5f6b-7e42-42e4-b164-a18ac4740c7d\",\"type\":\"BoxAnnotation\"},\"plot\":{\"id\":\"af544724-7bc6-43e1-b973-ba04cebb428f\",\"subtype\":\"Chart\",\"type\":\"Plot\"}},\"id\":\"a1bfd6b6-bf67-4062-904d-193da488b49c\",\"type\":\"BoxZoomTool\"},{\"attributes\":{\"callback\":null,\"column_names\":[\"line_color\",\"line_alpha\",\"color\",\"fill_alpha\",\"height\",\"width\",\"y\",\"x\",\"label\"],\"data\":{\"chart_index\":[{\"cyl\":6,\"origin\":3}],\"color\":[\"#df5320\"],\"cyl\":[6],\"fill_alpha\":[0.8],\"height\":[23.88333333333333],\"label\":[{\"cyl\":6,\"origin\":3}],\"line_alpha\":[1.0],\"line_color\":[\"white\"],\"origin\":[3],\"width\":[0.8],\"x\":[\"3\"],\"y\":[64.08731884057971]}},\"id\":\"2d76eab8-557f-4f45-a1b4-1e7e078a9ac0\",\"type\":\"ColumnDataSource\"},{\"attributes\":{\"data_source\":{\"id\":\"f71d41b0-51f7-4846-ae76-28a3f19417aa\",\"type\":\"ColumnDataSource\"},\"glyph\":{\"id\":\"f499401a-f2e2-44a3-b867-1d19875923cb\",\"type\":\"Rect\"},\"hover_glyph\":null,\"nonselection_glyph\":null,\"selection_glyph\":null},\"id\":\"1531b8f4-6395-477b-bc9b-1bf82218f294\",\"type\":\"GlyphRenderer\"},{\"attributes\":{\"callback\":null,\"column_names\":[\"line_color\",\"line_alpha\",\"color\",\"fill_alpha\",\"height\",\"width\",\"y\",\"x\",\"label\"],\"data\":{\"chart_index\":[{\"cyl\":4,\"origin\":1}],\"color\":[\"#5ab738\"],\"cyl\":[4],\"fill_alpha\":[0.8],\"height\":[28.013043478260872],\"label\":[{\"cyl\":4,\"origin\":1}],\"line_alpha\":[1.0],\"line_color\":[\"white\"],\"origin\":[1],\"width\":[0.8],\"x\":[\"1\"],\"y\":[48.61483401469899]}},\"id\":\"d42e74b7-7534-47ce-a1aa-31c56c2abdcf\",\"type\":\"ColumnDataSource\"},{\"attributes\":{\"below\":[{\"id\":\"1af4d8eb-29c6-4074-93a5-8179c3d86128\",\"type\":\"CategoricalAxis\"}],\"left\":[{\"id\":\"8b5c4163-a4c6-4c60-a318-7ff56c472c08\",\"type\":\"LinearAxis\"}],\"renderers\":[{\"id\":\"ea0e5f6b-7e42-42e4-b164-a18ac4740c7d\",\"type\":\"BoxAnnotation\"},{\"id\":\"f85bd807-09cb-49b9-ab93-68da5eb8734d\",\"type\":\"GlyphRenderer\"},{\"id\":\"37e60bf7-c1fe-4276-8d4f-e608c36b4ba9\",\"type\":\"GlyphRenderer\"},{\"id\":\"721973a2-d870-4783-a05a-664d9e165df3\",\"type\":\"GlyphRenderer\"},{\"id\":\"9d5505cb-33e3-4cfc-87b3-fb1c3341ec83\",\"type\":\"GlyphRenderer\"},{\"id\":\"0249b365-a911-4a89-baa9-2f9f890518f0\",\"type\":\"GlyphRenderer\"},{\"id\":\"48d60c2f-f4dc-4687-be0b-5b18794d5e2a\",\"type\":\"GlyphRenderer\"},{\"id\":\"7079cd21-34e4-40a7-811d-890533c89551\",\"type\":\"GlyphRenderer\"},{\"id\":\"1531b8f4-6395-477b-bc9b-1bf82218f294\",\"type\":\"GlyphRenderer\"},{\"id\":\"5e354674-430b-4c63-8691-54e439c460f6\",\"type\":\"GlyphRenderer\"},{\"id\":\"7aa9b720-44de-4223-89ad-051c4edbfe94\",\"type\":\"Legend\"},{\"id\":\"1af4d8eb-29c6-4074-93a5-8179c3d86128\",\"type\":\"CategoricalAxis\"},{\"id\":\"8b5c4163-a4c6-4c60-a318-7ff56c472c08\",\"type\":\"LinearAxis\"},{\"id\":\"a6caade0-22d0-475e-9722-6b144e1584ea\",\"type\":\"Grid\"}],\"title\":{\"id\":\"7021c8b9-f5c2-4c56-8bea-064dc28b9294\",\"type\":\"Title\"},\"tool_events\":{\"id\":\"07bf0b57-3815-458c-8158-242e5c37c5dc\",\"type\":\"ToolEvents\"},\"toolbar\":{\"id\":\"2642f665-f47d-4cb6-bdb9-756462afabc9\",\"type\":\"Toolbar\"},\"x_mapper_type\":\"auto\",\"x_range\":{\"id\":\"ed945b8b-1ce8-4013-9434-673f045169c0\",\"type\":\"FactorRange\"},\"y_mapper_type\":\"auto\",\"y_range\":{\"id\":\"0932593b-a0a4-493b-9140-1a596e5b4498\",\"type\":\"Range1d\"}},\"id\":\"af544724-7bc6-43e1-b973-ba04cebb428f\",\"subtype\":\"Chart\",\"type\":\"Plot\"},{\"attributes\":{\"callback\":null,\"factors\":[\"1\",\"2\",\"3\"]},\"id\":\"ed945b8b-1ce8-4013-9434-673f045169c0\",\"type\":\"FactorRange\"},{\"attributes\":{\"fill_alpha\":{\"field\":\"fill_alpha\"},\"fill_color\":{\"field\":\"color\"},\"height\":{\"field\":\"height\",\"units\":\"data\"},\"line_color\":{\"field\":\"line_color\"},\"width\":{\"field\":\"width\",\"units\":\"data\"},\"x\":{\"field\":\"x\"},\"y\":{\"field\":\"y\"}},\"id\":\"41725739-519b-4e64-8be0-e5b2e1058dbe\",\"type\":\"Rect\"},{\"attributes\":{\"callback\":null,\"column_names\":[\"line_color\",\"line_alpha\",\"color\",\"fill_alpha\",\"height\",\"width\",\"y\",\"x\",\"label\"],\"data\":{\"chart_index\":[{\"cyl\":6,\"origin\":1}],\"color\":[\"#df5320\"],\"cyl\":[6],\"fill_alpha\":[0.8],\"height\":[19.645205479452052],\"label\":[{\"cyl\":6,\"origin\":1}],\"line_alpha\":[1.0],\"line_color\":[\"white\"],\"origin\":[1],\"width\":[0.8],\"x\":[\"1\"],\"y\":[24.785709535842532]}},\"id\":\"152ee803-2f6c-4cd2-a414-81853638adae\",\"type\":\"ColumnDataSource\"},{\"attributes\":{\"callback\":null,\"column_names\":[\"line_color\",\"line_alpha\",\"color\",\"fill_alpha\",\"height\",\"width\",\"y\",\"x\",\"label\"],\"data\":{\"chart_index\":[{\"cyl\":6,\"origin\":2}],\"color\":[\"#df5320\"],\"cyl\":[6],\"fill_alpha\":[0.8],\"height\":[20.1],\"label\":[{\"cyl\":6,\"origin\":2}],\"line_alpha\":[1.0],\"line_color\":[\"white\"],\"origin\":[2],\"width\":[0.8],\"x\":[\"2\"],\"y\":[38.15655737704918]}},\"id\":\"f71d41b0-51f7-4846-ae76-28a3f19417aa\",\"type\":\"ColumnDataSource\"},{\"attributes\":{\"data_source\":{\"id\":\"d42e74b7-7534-47ce-a1aa-31c56c2abdcf\",\"type\":\"ColumnDataSource\"},\"glyph\":{\"id\":\"66f90d54-1642-4233-bed9-76efcaa1ceb4\",\"type\":\"Rect\"},\"hover_glyph\":null,\"nonselection_glyph\":null,\"selection_glyph\":null},\"id\":\"0249b365-a911-4a89-baa9-2f9f890518f0\",\"type\":\"GlyphRenderer\"},{\"attributes\":{},\"id\":\"f191b0a1-d071-4d4c-a852-6d819fea9823\",\"type\":\"BasicTicker\"},{\"attributes\":{\"data_source\":{\"id\":\"2d76eab8-557f-4f45-a1b4-1e7e078a9ac0\",\"type\":\"ColumnDataSource\"},\"glyph\":{\"id\":\"e8095c6e-9fa9-4ef6-9ccb-8e9aee03dba1\",\"type\":\"Rect\"},\"hover_glyph\":null,\"nonselection_glyph\":null,\"selection_glyph\":null},\"id\":\"7079cd21-34e4-40a7-811d-890533c89551\",\"type\":\"GlyphRenderer\"},{\"attributes\":{},\"id\":\"ca5247bf-a46c-4954-a23d-ad73cfc945a7\",\"type\":\"CategoricalTicker\"},{\"attributes\":{},\"id\":\"50dad794-dd69-4e73-bf29-76890117a9bc\",\"type\":\"BasicTickFormatter\"},{\"attributes\":{\"callback\":null,\"column_names\":[\"line_color\",\"line_alpha\",\"color\",\"fill_alpha\",\"height\",\"width\",\"y\",\"x\",\"label\"],\"data\":{\"chart_index\":[{\"cyl\":8,\"origin\":1}],\"color\":[\"#00ad9c\"],\"cyl\":[8],\"fill_alpha\":[0.8],\"height\":[14.963106796116506],\"label\":[{\"cyl\":8,\"origin\":1}],\"line_alpha\":[1.0],\"line_color\":[\"white\"],\"origin\":[1],\"width\":[0.8],\"x\":[\"1\"],\"y\":[7.481553398058253]}},\"id\":\"ccbd9f96-3bcf-476d-b4d6-b0e46214f13b\",\"type\":\"ColumnDataSource\"},{\"attributes\":{\"data_source\":{\"id\":\"2fd1f4a1-9c57-4eba-a935-595ec0b06d4b\",\"type\":\"ColumnDataSource\"},\"glyph\":{\"id\":\"e6213724-2999-4882-b61f-ac4d86bb4e34\",\"type\":\"Rect\"},\"hover_glyph\":null,\"nonselection_glyph\":null,\"selection_glyph\":null},\"id\":\"9d5505cb-33e3-4cfc-87b3-fb1c3341ec83\",\"type\":\"GlyphRenderer\"},{\"attributes\":{\"fill_alpha\":{\"field\":\"fill_alpha\"},\"fill_color\":{\"field\":\"color\"},\"height\":{\"field\":\"height\",\"units\":\"data\"},\"line_color\":{\"field\":\"line_color\"},\"width\":{\"field\":\"width\",\"units\":\"data\"},\"x\":{\"field\":\"x\"},\"y\":{\"field\":\"y\"}},\"id\":\"1572b29c-e077-4888-afd9-f8fce7a3eb3c\",\"type\":\"Rect\"},{\"attributes\":{\"plot\":{\"id\":\"af544724-7bc6-43e1-b973-ba04cebb428f\",\"subtype\":\"Chart\",\"type\":\"Plot\"}},\"id\":\"aba6b30c-2613-431c-b6ea-249d873a0750\",\"type\":\"HelpTool\"},{\"attributes\":{\"fill_alpha\":{\"field\":\"fill_alpha\"},\"fill_color\":{\"field\":\"color\"},\"height\":{\"field\":\"height\",\"units\":\"data\"},\"line_color\":{\"field\":\"line_color\"},\"width\":{\"field\":\"width\",\"units\":\"data\"},\"x\":{\"field\":\"x\"},\"y\":{\"field\":\"y\"}},\"id\":\"e8095c6e-9fa9-4ef6-9ccb-8e9aee03dba1\",\"type\":\"Rect\"},{\"attributes\":{\"plot\":null,\"text\":\"Avg MPG by ORIGIN, stacked by CYL\"},\"id\":\"7021c8b9-f5c2-4c56-8bea-064dc28b9294\",\"type\":\"Title\"},{\"attributes\":{\"callback\":null,\"column_names\":[\"line_color\",\"line_alpha\",\"color\",\"fill_alpha\",\"height\",\"width\",\"y\",\"x\",\"label\"],\"data\":{\"chart_index\":[{\"cyl\":3,\"origin\":3}],\"color\":[\"#f22c40\"],\"cyl\":[3],\"fill_alpha\":[0.8],\"height\":[20.55],\"label\":[{\"cyl\":3,\"origin\":3}],\"line_alpha\":[1.0],\"line_color\":[\"white\"],\"origin\":[3],\"width\":[0.8],\"x\":[\"3\"],\"y\":[41.870652173913044]}},\"id\":\"e4817f67-3e8e-4047-b65e-57876db34a2e\",\"type\":\"ColumnDataSource\"},{\"attributes\":{\"dimension\":1,\"plot\":{\"id\":\"af544724-7bc6-43e1-b973-ba04cebb428f\",\"subtype\":\"Chart\",\"type\":\"Plot\"},\"ticker\":{\"id\":\"f191b0a1-d071-4d4c-a852-6d819fea9823\",\"type\":\"BasicTicker\"}},\"id\":\"a6caade0-22d0-475e-9722-6b144e1584ea\",\"type\":\"Grid\"},{\"attributes\":{\"callback\":null,\"column_names\":[\"line_color\",\"line_alpha\",\"color\",\"fill_alpha\",\"height\",\"width\",\"y\",\"x\",\"label\"],\"data\":{\"chart_index\":[{\"cyl\":5,\"origin\":2}],\"color\":[\"#407ee7\"],\"cyl\":[5],\"fill_alpha\":[0.8],\"height\":[27.366666666666664],\"label\":[{\"cyl\":5,\"origin\":2}],\"line_alpha\":[1.0],\"line_color\":[\"white\"],\"origin\":[2],\"width\":[0.8],\"x\":[\"2\"],\"y\":[61.88989071038251]}},\"id\":\"fa6f1030-79f7-4671-abcc-2f3137eec3ae\",\"type\":\"ColumnDataSource\"},{\"attributes\":{\"fill_alpha\":{\"field\":\"fill_alpha\"},\"fill_color\":{\"field\":\"color\"},\"height\":{\"field\":\"height\",\"units\":\"data\"},\"line_color\":{\"field\":\"line_color\"},\"width\":{\"field\":\"width\",\"units\":\"data\"},\"x\":{\"field\":\"x\"},\"y\":{\"field\":\"y\"}},\"id\":\"f499401a-f2e2-44a3-b867-1d19875923cb\",\"type\":\"Rect\"},{\"attributes\":{},\"id\":\"81bbd899-ac73-4571-bc59-94278c5810d1\",\"type\":\"CategoricalTickFormatter\"},{\"attributes\":{\"fill_alpha\":{\"field\":\"fill_alpha\"},\"fill_color\":{\"field\":\"color\"},\"height\":{\"field\":\"height\",\"units\":\"data\"},\"line_color\":{\"field\":\"line_color\"},\"width\":{\"field\":\"width\",\"units\":\"data\"},\"x\":{\"field\":\"x\"},\"y\":{\"field\":\"y\"}},\"id\":\"08baf28a-e967-4982-a529-37e43509cb5a\",\"type\":\"Rect\"},{\"attributes\":{\"plot\":{\"id\":\"af544724-7bc6-43e1-b973-ba04cebb428f\",\"subtype\":\"Chart\",\"type\":\"Plot\"}},\"id\":\"bf5d5cd5-fe6d-4d11-9026-76b6ebf9fd7c\",\"type\":\"PanTool\"},{\"attributes\":{\"data_source\":{\"id\":\"ccbd9f96-3bcf-476d-b4d6-b0e46214f13b\",\"type\":\"ColumnDataSource\"},\"glyph\":{\"id\":\"c6007211-51ed-4760-ae42-7be9adb807bf\",\"type\":\"Rect\"},\"hover_glyph\":null,\"nonselection_glyph\":null,\"selection_glyph\":null},\"id\":\"f85bd807-09cb-49b9-ab93-68da5eb8734d\",\"type\":\"GlyphRenderer\"},{\"attributes\":{\"bottom_units\":\"screen\",\"fill_alpha\":{\"value\":0.5},\"fill_color\":{\"value\":\"lightgrey\"},\"left_units\":\"screen\",\"level\":\"overlay\",\"line_alpha\":{\"value\":1.0},\"line_color\":{\"value\":\"black\"},\"line_dash\":[4,4],\"line_width\":{\"value\":2},\"plot\":null,\"render_mode\":\"css\",\"right_units\":\"screen\",\"top_units\":\"screen\"},\"id\":\"ea0e5f6b-7e42-42e4-b164-a18ac4740c7d\",\"type\":\"BoxAnnotation\"},{\"attributes\":{\"data_source\":{\"id\":\"e4817f67-3e8e-4047-b65e-57876db34a2e\",\"type\":\"ColumnDataSource\"},\"glyph\":{\"id\":\"1572b29c-e077-4888-afd9-f8fce7a3eb3c\",\"type\":\"Rect\"},\"hover_glyph\":null,\"nonselection_glyph\":null,\"selection_glyph\":null},\"id\":\"48d60c2f-f4dc-4687-be0b-5b18794d5e2a\",\"type\":\"GlyphRenderer\"},{\"attributes\":{\"axis_label\":\"Origin\",\"formatter\":{\"id\":\"81bbd899-ac73-4571-bc59-94278c5810d1\",\"type\":\"CategoricalTickFormatter\"},\"major_label_orientation\":0.7853981633974483,\"plot\":{\"id\":\"af544724-7bc6-43e1-b973-ba04cebb428f\",\"subtype\":\"Chart\",\"type\":\"Plot\"},\"ticker\":{\"id\":\"ca5247bf-a46c-4954-a23d-ad73cfc945a7\",\"type\":\"CategoricalTicker\"}},\"id\":\"1af4d8eb-29c6-4074-93a5-8179c3d86128\",\"type\":\"CategoricalAxis\"},{\"attributes\":{\"label\":{\"value\":\"4\"},\"renderers\":[{\"id\":\"37e60bf7-c1fe-4276-8d4f-e608c36b4ba9\",\"type\":\"GlyphRenderer\"}]},\"id\":\"4b1ae7c2-d380-4302-be33-5fddb2b9df73\",\"type\":\"LegendItem\"},{\"attributes\":{\"callback\":null,\"end\":79.83043478260869},\"id\":\"0932593b-a0a4-493b-9140-1a596e5b4498\",\"type\":\"Range1d\"},{\"attributes\":{\"data_source\":{\"id\":\"fa6f1030-79f7-4671-abcc-2f3137eec3ae\",\"type\":\"ColumnDataSource\"},\"glyph\":{\"id\":\"41725739-519b-4e64-8be0-e5b2e1058dbe\",\"type\":\"Rect\"},\"hover_glyph\":null,\"nonselection_glyph\":null,\"selection_glyph\":null},\"id\":\"5e354674-430b-4c63-8691-54e439c460f6\",\"type\":\"GlyphRenderer\"}],\"root_ids\":[\"af544724-7bc6-43e1-b973-ba04cebb428f\"]},\"title\":\"Bokeh Application\",\"version\":\"0.12.3\"}};\n",
       "            var render_items = [{\"docid\":\"0635c88b-285c-442f-bef2-2ff6a30761fa\",\"elementid\":\"a70d1093-6ef2-4b14-8019-edbdfbab0084\",\"modelid\":\"af544724-7bc6-43e1-b973-ba04cebb428f\"}];\n",
       "            \n",
       "            Bokeh.embed.embed_items(docs_json, render_items);\n",
       "        });\n",
       "      },\n",
       "      function(Bokeh) {\n",
       "      }\n",
       "    ];\n",
       "  \n",
       "    function run_inline_js() {\n",
       "      \n",
       "      if ((window.Bokeh !== undefined) || (force === \"1\")) {\n",
       "        for (var i = 0; i < inline_js.length; i++) {\n",
       "          inline_js[i](window.Bokeh);\n",
       "        }if (force === \"1\") {\n",
       "          display_loaded();\n",
       "        }} else if (Date.now() < window._bokeh_timeout) {\n",
       "        setTimeout(run_inline_js, 100);\n",
       "      } else if (!window._bokeh_failed_load) {\n",
       "        console.log(\"Bokeh: BokehJS failed to load within specified timeout.\");\n",
       "        window._bokeh_failed_load = true;\n",
       "      } else if (!force) {\n",
       "        var cell = $(\"#a70d1093-6ef2-4b14-8019-edbdfbab0084\").parents('.cell').data().cell;\n",
       "        cell.output_area.append_execute_result(NB_LOAD_WARNING)\n",
       "      }\n",
       "  \n",
       "    }\n",
       "  \n",
       "    if (window._bokeh_is_loading === 0) {\n",
       "      console.log(\"Bokeh: BokehJS loaded, going straight to plotting\");\n",
       "      run_inline_js();\n",
       "    } else {\n",
       "      load_libs(js_urls, function() {\n",
       "        console.log(\"Bokeh: BokehJS plotting callback run at\", now());\n",
       "        run_inline_js();\n",
       "      });\n",
       "    }\n",
       "  }(this));\n",
       "</script>"
      ]
     },
     "metadata": {},
     "output_type": "display_data"
    }
   ],
   "source": [
    "from bokeh.io import output_notebook\n",
    "from bokeh.charts import Bar, output_file, show, chart\n",
    "from bokeh.sampledata.autompg import autompg as df\n",
    "output_notebook()\n",
    "\n",
    "t = chart.Chart()\n",
    "\n",
    "p = Bar(df, label='origin', values='mpg', agg='mean', stack='cyl',\n",
    "        title=\"Avg MPG by ORIGIN, stacked by CYL\", legend='top_right')\n",
    "\n",
    "show(p)"
   ]
  },
  {
   "cell_type": "code",
   "execution_count": 8,
   "metadata": {
    "collapsed": false
   },
   "outputs": [
    {
     "data": {
      "text/plain": [
       "bokeh.charts.chart.Chart"
      ]
     },
     "execution_count": 8,
     "metadata": {},
     "output_type": "execute_result"
    }
   ],
   "source": [
    "type(p)"
   ]
  },
  {
   "cell_type": "code",
   "execution_count": 10,
   "metadata": {
    "collapsed": true
   },
   "outputs": [],
   "source": [
    "from bokeh.plotting import figure\n",
    "\n",
    "f = figure(title='legend')"
   ]
  },
  {
   "cell_type": "code",
   "execution_count": 12,
   "metadata": {
    "collapsed": false
   },
   "outputs": [
    {
     "data": {
      "text/plain": [
       "bokeh.plotting.figure.Figure"
      ]
     },
     "execution_count": 12,
     "metadata": {},
     "output_type": "execute_result"
    }
   ],
   "source": [
    "type(f)"
   ]
  },
  {
   "cell_type": "code",
   "execution_count": 16,
   "metadata": {
    "collapsed": false
   },
   "outputs": [
    {
     "data": {
      "text/plain": [
       "bokeh.charts.chart.Chart"
      ]
     },
     "execution_count": 16,
     "metadata": {},
     "output_type": "execute_result"
    }
   ],
   "source": [
    "type(t)"
   ]
  },
  {
   "cell_type": "code",
   "execution_count": null,
   "metadata": {
    "collapsed": true
   },
   "outputs": [],
   "source": []
  }
 ],
 "metadata": {
  "kernelspec": {
   "display_name": "Python 2",
   "language": "python",
   "name": "python2"
  },
  "language_info": {
   "codemirror_mode": {
    "name": "ipython",
    "version": 2
   },
   "file_extension": ".py",
   "mimetype": "text/x-python",
   "name": "python",
   "nbconvert_exporter": "python",
   "pygments_lexer": "ipython2",
   "version": "2.7.12"
  }
 },
 "nbformat": 4,
 "nbformat_minor": 1
}

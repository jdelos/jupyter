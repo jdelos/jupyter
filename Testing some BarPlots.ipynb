{
 "cells": [
  {
   "cell_type": "code",
   "execution_count": 1,
   "metadata": {
    "collapsed": false
   },
   "outputs": [
    {
     "data": {
      "text/html": [
       "\n",
       "    <div class=\"bk-root\">\n",
       "        <a href=\"http://bokeh.pydata.org\" target=\"_blank\" class=\"bk-logo bk-logo-small bk-logo-notebook\"></a>\n",
       "        <span id=\"9ca2f295-0d3f-4f11-9d28-7ab7db9e2ea5\">Loading BokehJS ...</span>\n",
       "    </div>"
      ]
     },
     "metadata": {},
     "output_type": "display_data"
    },
    {
     "data": {
      "application/javascript": [
       "\n",
       "(function(global) {\n",
       "  function now() {\n",
       "    return new Date();\n",
       "  }\n",
       "\n",
       "  var force = \"1\";\n",
       "\n",
       "  if (typeof (window._bokeh_onload_callbacks) === \"undefined\" || force !== \"\") {\n",
       "    window._bokeh_onload_callbacks = [];\n",
       "    window._bokeh_is_loading = undefined;\n",
       "  }\n",
       "\n",
       "\n",
       "  \n",
       "  if (typeof (window._bokeh_timeout) === \"undefined\" || force !== \"\") {\n",
       "    window._bokeh_timeout = Date.now() + 5000;\n",
       "    window._bokeh_failed_load = false;\n",
       "  }\n",
       "\n",
       "  var NB_LOAD_WARNING = {'data': {'text/html':\n",
       "     \"<div style='background-color: #fdd'>\\n\"+\n",
       "     \"<p>\\n\"+\n",
       "     \"BokehJS does not appear to have successfully loaded. If loading BokehJS from CDN, this \\n\"+\n",
       "     \"may be due to a slow or bad network connection. Possible fixes:\\n\"+\n",
       "     \"</p>\\n\"+\n",
       "     \"<ul>\\n\"+\n",
       "     \"<li>re-rerun `output_notebook()` to attempt to load from CDN again, or</li>\\n\"+\n",
       "     \"<li>use INLINE resources instead, as so:</li>\\n\"+\n",
       "     \"</ul>\\n\"+\n",
       "     \"<code>\\n\"+\n",
       "     \"from bokeh.resources import INLINE\\n\"+\n",
       "     \"output_notebook(resources=INLINE)\\n\"+\n",
       "     \"</code>\\n\"+\n",
       "     \"</div>\"}};\n",
       "\n",
       "  function display_loaded() {\n",
       "    if (window.Bokeh !== undefined) {\n",
       "      Bokeh.$(\"#9ca2f295-0d3f-4f11-9d28-7ab7db9e2ea5\").text(\"BokehJS successfully loaded.\");\n",
       "    } else if (Date.now() < window._bokeh_timeout) {\n",
       "      setTimeout(display_loaded, 100)\n",
       "    }\n",
       "  }\n",
       "\n",
       "  function run_callbacks() {\n",
       "    window._bokeh_onload_callbacks.forEach(function(callback) { callback() });\n",
       "    delete window._bokeh_onload_callbacks\n",
       "    console.info(\"Bokeh: all callbacks have finished\");\n",
       "  }\n",
       "\n",
       "  function load_libs(js_urls, callback) {\n",
       "    window._bokeh_onload_callbacks.push(callback);\n",
       "    if (window._bokeh_is_loading > 0) {\n",
       "      console.log(\"Bokeh: BokehJS is being loaded, scheduling callback at\", now());\n",
       "      return null;\n",
       "    }\n",
       "    if (js_urls == null || js_urls.length === 0) {\n",
       "      run_callbacks();\n",
       "      return null;\n",
       "    }\n",
       "    console.log(\"Bokeh: BokehJS not loaded, scheduling load and callback at\", now());\n",
       "    window._bokeh_is_loading = js_urls.length;\n",
       "    for (var i = 0; i < js_urls.length; i++) {\n",
       "      var url = js_urls[i];\n",
       "      var s = document.createElement('script');\n",
       "      s.src = url;\n",
       "      s.async = false;\n",
       "      s.onreadystatechange = s.onload = function() {\n",
       "        window._bokeh_is_loading--;\n",
       "        if (window._bokeh_is_loading === 0) {\n",
       "          console.log(\"Bokeh: all BokehJS libraries loaded\");\n",
       "          run_callbacks()\n",
       "        }\n",
       "      };\n",
       "      s.onerror = function() {\n",
       "        console.warn(\"failed to load library \" + url);\n",
       "      };\n",
       "      console.log(\"Bokeh: injecting script tag for BokehJS library: \", url);\n",
       "      document.getElementsByTagName(\"head\")[0].appendChild(s);\n",
       "    }\n",
       "  };var element = document.getElementById(\"9ca2f295-0d3f-4f11-9d28-7ab7db9e2ea5\");\n",
       "  if (element == null) {\n",
       "    console.log(\"Bokeh: ERROR: autoload.js configured with elementid '9ca2f295-0d3f-4f11-9d28-7ab7db9e2ea5' but no matching script tag was found. \")\n",
       "    return false;\n",
       "  }\n",
       "\n",
       "  var js_urls = ['https://cdn.pydata.org/bokeh/release/bokeh-0.12.3.min.js', 'https://cdn.pydata.org/bokeh/release/bokeh-widgets-0.12.3.min.js'];\n",
       "\n",
       "  var inline_js = [\n",
       "    function(Bokeh) {\n",
       "      Bokeh.set_log_level(\"info\");\n",
       "    },\n",
       "    \n",
       "    function(Bokeh) {\n",
       "      \n",
       "      Bokeh.$(\"#9ca2f295-0d3f-4f11-9d28-7ab7db9e2ea5\").text(\"BokehJS is loading...\");\n",
       "    },\n",
       "    function(Bokeh) {\n",
       "      console.log(\"Bokeh: injecting CSS: https://cdn.pydata.org/bokeh/release/bokeh-0.12.3.min.css\");\n",
       "      Bokeh.embed.inject_css(\"https://cdn.pydata.org/bokeh/release/bokeh-0.12.3.min.css\");\n",
       "      console.log(\"Bokeh: injecting CSS: https://cdn.pydata.org/bokeh/release/bokeh-widgets-0.12.3.min.css\");\n",
       "      Bokeh.embed.inject_css(\"https://cdn.pydata.org/bokeh/release/bokeh-widgets-0.12.3.min.css\");\n",
       "    }\n",
       "  ];\n",
       "\n",
       "  function run_inline_js() {\n",
       "    \n",
       "    if ((window.Bokeh !== undefined) || (force === \"1\")) {\n",
       "      for (var i = 0; i < inline_js.length; i++) {\n",
       "        inline_js[i](window.Bokeh);\n",
       "      }if (force === \"1\") {\n",
       "        display_loaded();\n",
       "      }} else if (Date.now() < window._bokeh_timeout) {\n",
       "      setTimeout(run_inline_js, 100);\n",
       "    } else if (!window._bokeh_failed_load) {\n",
       "      console.log(\"Bokeh: BokehJS failed to load within specified timeout.\");\n",
       "      window._bokeh_failed_load = true;\n",
       "    } else if (!force) {\n",
       "      var cell = $(\"#9ca2f295-0d3f-4f11-9d28-7ab7db9e2ea5\").parents('.cell').data().cell;\n",
       "      cell.output_area.append_execute_result(NB_LOAD_WARNING)\n",
       "    }\n",
       "\n",
       "  }\n",
       "\n",
       "  if (window._bokeh_is_loading === 0) {\n",
       "    console.log(\"Bokeh: BokehJS loaded, going straight to plotting\");\n",
       "    run_inline_js();\n",
       "  } else {\n",
       "    load_libs(js_urls, function() {\n",
       "      console.log(\"Bokeh: BokehJS plotting callback run at\", now());\n",
       "      run_inline_js();\n",
       "    });\n",
       "  }\n",
       "}(this));"
      ]
     },
     "metadata": {},
     "output_type": "display_data"
    },
    {
     "data": {
      "text/html": [
       "\n",
       "\n",
       "    <div class=\"bk-root\">\n",
       "        <div class=\"plotdiv\" id=\"7ee9d0e7-906b-4cf4-92c7-303a9c05f9b6\"></div>\n",
       "    </div>\n",
       "<script type=\"text/javascript\">\n",
       "  \n",
       "  (function(global) {\n",
       "    function now() {\n",
       "      return new Date();\n",
       "    }\n",
       "  \n",
       "    var force = \"\";\n",
       "  \n",
       "    if (typeof (window._bokeh_onload_callbacks) === \"undefined\" || force !== \"\") {\n",
       "      window._bokeh_onload_callbacks = [];\n",
       "      window._bokeh_is_loading = undefined;\n",
       "    }\n",
       "  \n",
       "  \n",
       "    \n",
       "    if (typeof (window._bokeh_timeout) === \"undefined\" || force !== \"\") {\n",
       "      window._bokeh_timeout = Date.now() + 0;\n",
       "      window._bokeh_failed_load = false;\n",
       "    }\n",
       "  \n",
       "    var NB_LOAD_WARNING = {'data': {'text/html':\n",
       "       \"<div style='background-color: #fdd'>\\n\"+\n",
       "       \"<p>\\n\"+\n",
       "       \"BokehJS does not appear to have successfully loaded. If loading BokehJS from CDN, this \\n\"+\n",
       "       \"may be due to a slow or bad network connection. Possible fixes:\\n\"+\n",
       "       \"</p>\\n\"+\n",
       "       \"<ul>\\n\"+\n",
       "       \"<li>re-rerun `output_notebook()` to attempt to load from CDN again, or</li>\\n\"+\n",
       "       \"<li>use INLINE resources instead, as so:</li>\\n\"+\n",
       "       \"</ul>\\n\"+\n",
       "       \"<code>\\n\"+\n",
       "       \"from bokeh.resources import INLINE\\n\"+\n",
       "       \"output_notebook(resources=INLINE)\\n\"+\n",
       "       \"</code>\\n\"+\n",
       "       \"</div>\"}};\n",
       "  \n",
       "    function display_loaded() {\n",
       "      if (window.Bokeh !== undefined) {\n",
       "        Bokeh.$(\"#7ee9d0e7-906b-4cf4-92c7-303a9c05f9b6\").text(\"BokehJS successfully loaded.\");\n",
       "      } else if (Date.now() < window._bokeh_timeout) {\n",
       "        setTimeout(display_loaded, 100)\n",
       "      }\n",
       "    }\n",
       "  \n",
       "    function run_callbacks() {\n",
       "      window._bokeh_onload_callbacks.forEach(function(callback) { callback() });\n",
       "      delete window._bokeh_onload_callbacks\n",
       "      console.info(\"Bokeh: all callbacks have finished\");\n",
       "    }\n",
       "  \n",
       "    function load_libs(js_urls, callback) {\n",
       "      window._bokeh_onload_callbacks.push(callback);\n",
       "      if (window._bokeh_is_loading > 0) {\n",
       "        console.log(\"Bokeh: BokehJS is being loaded, scheduling callback at\", now());\n",
       "        return null;\n",
       "      }\n",
       "      if (js_urls == null || js_urls.length === 0) {\n",
       "        run_callbacks();\n",
       "        return null;\n",
       "      }\n",
       "      console.log(\"Bokeh: BokehJS not loaded, scheduling load and callback at\", now());\n",
       "      window._bokeh_is_loading = js_urls.length;\n",
       "      for (var i = 0; i < js_urls.length; i++) {\n",
       "        var url = js_urls[i];\n",
       "        var s = document.createElement('script');\n",
       "        s.src = url;\n",
       "        s.async = false;\n",
       "        s.onreadystatechange = s.onload = function() {\n",
       "          window._bokeh_is_loading--;\n",
       "          if (window._bokeh_is_loading === 0) {\n",
       "            console.log(\"Bokeh: all BokehJS libraries loaded\");\n",
       "            run_callbacks()\n",
       "          }\n",
       "        };\n",
       "        s.onerror = function() {\n",
       "          console.warn(\"failed to load library \" + url);\n",
       "        };\n",
       "        console.log(\"Bokeh: injecting script tag for BokehJS library: \", url);\n",
       "        document.getElementsByTagName(\"head\")[0].appendChild(s);\n",
       "      }\n",
       "    };var element = document.getElementById(\"7ee9d0e7-906b-4cf4-92c7-303a9c05f9b6\");\n",
       "    if (element == null) {\n",
       "      console.log(\"Bokeh: ERROR: autoload.js configured with elementid '7ee9d0e7-906b-4cf4-92c7-303a9c05f9b6' but no matching script tag was found. \")\n",
       "      return false;\n",
       "    }\n",
       "  \n",
       "    var js_urls = [];\n",
       "  \n",
       "    var inline_js = [\n",
       "      function(Bokeh) {\n",
       "        Bokeh.$(function() {\n",
       "            var docs_json = {\"67df18c9-8ecf-4d86-af73-4a5a9c09a96b\":{\"roots\":{\"references\":[{\"attributes\":{\"plot\":null,\"text\":\"Avg MPG by ORIGIN, stacked by CYL\"},\"id\":\"0dadb96e-e61f-4029-a7df-e251071fb8bd\",\"type\":\"Title\"},{\"attributes\":{\"axis_label\":\"Mean( Mpg )\",\"formatter\":{\"id\":\"8cad11e2-d72f-44ed-9b2e-b3900b3d6877\",\"type\":\"BasicTickFormatter\"},\"plot\":{\"id\":\"80e4116a-f89c-445a-8e6d-ebe033092ddd\",\"subtype\":\"Chart\",\"type\":\"Plot\"},\"ticker\":{\"id\":\"9494890b-2424-43a5-907a-52c405141b17\",\"type\":\"BasicTicker\"}},\"id\":\"3fb74006-b398-47da-8509-44eb1f02ab4c\",\"type\":\"LinearAxis\"},{\"attributes\":{\"axis_label\":\"Origin\",\"formatter\":{\"id\":\"48b789a4-4444-4acb-8ab9-8534e3c8dd6f\",\"type\":\"CategoricalTickFormatter\"},\"major_label_orientation\":0.7853981633974483,\"plot\":{\"id\":\"80e4116a-f89c-445a-8e6d-ebe033092ddd\",\"subtype\":\"Chart\",\"type\":\"Plot\"},\"ticker\":{\"id\":\"3461d9ed-e14c-4e05-8189-569f6d0b4c09\",\"type\":\"CategoricalTicker\"}},\"id\":\"fbdc7ccc-177d-4e69-b422-8118d57ba580\",\"type\":\"CategoricalAxis\"},{\"attributes\":{\"data_source\":{\"id\":\"18deb907-eeb0-4f1e-af1a-b5e72da286f0\",\"type\":\"ColumnDataSource\"},\"glyph\":{\"id\":\"09eaf8d3-49de-4544-9e51-3d1e16a31956\",\"type\":\"Rect\"},\"hover_glyph\":null,\"nonselection_glyph\":null,\"selection_glyph\":null},\"id\":\"095a59d7-bb48-47e5-a777-80294e9110c0\",\"type\":\"GlyphRenderer\"},{\"attributes\":{\"callback\":null,\"column_names\":[\"line_color\",\"line_alpha\",\"color\",\"fill_alpha\",\"height\",\"width\",\"y\",\"x\",\"label\"],\"data\":{\"chart_index\":[{\"cyl\":6,\"origin\":3}],\"color\":[\"#df5320\"],\"cyl\":[6],\"fill_alpha\":[0.8],\"height\":[23.88333333333333],\"label\":[{\"cyl\":6,\"origin\":3}],\"line_alpha\":[1.0],\"line_color\":[\"white\"],\"origin\":[3],\"width\":[0.8],\"x\":[\"3\"],\"y\":[64.08731884057971]}},\"id\":\"556917f3-50e1-46e4-a572-eabd59329ac5\",\"type\":\"ColumnDataSource\"},{\"attributes\":{\"fill_alpha\":{\"field\":\"fill_alpha\"},\"fill_color\":{\"field\":\"color\"},\"height\":{\"field\":\"height\",\"units\":\"data\"},\"line_color\":{\"field\":\"line_color\"},\"width\":{\"field\":\"width\",\"units\":\"data\"},\"x\":{\"field\":\"x\"},\"y\":{\"field\":\"y\"}},\"id\":\"7304b7af-70dd-4e4e-bca6-c5be0177e775\",\"type\":\"Rect\"},{\"attributes\":{},\"id\":\"c9f1db4c-9924-4134-9b80-a6540df63b75\",\"type\":\"ToolEvents\"},{\"attributes\":{\"data_source\":{\"id\":\"d3a19c3c-2961-49ec-9535-010833691fdc\",\"type\":\"ColumnDataSource\"},\"glyph\":{\"id\":\"16586e6e-fdc2-4ccd-aa28-c2c48df9adb6\",\"type\":\"Rect\"},\"hover_glyph\":null,\"nonselection_glyph\":null,\"selection_glyph\":null},\"id\":\"077cdf20-5145-40ed-bc01-13adb7aa74aa\",\"type\":\"GlyphRenderer\"},{\"attributes\":{\"overlay\":{\"id\":\"9961c37c-8e06-442a-bbbb-33d2e28447a5\",\"type\":\"BoxAnnotation\"},\"plot\":{\"id\":\"80e4116a-f89c-445a-8e6d-ebe033092ddd\",\"subtype\":\"Chart\",\"type\":\"Plot\"}},\"id\":\"77844f3b-0916-4e14-9f56-f4a01c41b6fa\",\"type\":\"BoxZoomTool\"},{\"attributes\":{\"data_source\":{\"id\":\"0d2386f4-b3b0-4802-9ba2-205fc08ae402\",\"type\":\"ColumnDataSource\"},\"glyph\":{\"id\":\"db1d09e3-67e8-444f-8c0c-c95dc00df4d6\",\"type\":\"Rect\"},\"hover_glyph\":null,\"nonselection_glyph\":null,\"selection_glyph\":null},\"id\":\"b79da1dc-6217-4554-8e2e-c6cddac07017\",\"type\":\"GlyphRenderer\"},{\"attributes\":{\"active_drag\":\"auto\",\"active_scroll\":\"auto\",\"active_tap\":\"auto\",\"tools\":[{\"id\":\"4c0d0ec3-bac1-4ee4-8543-1af1825bf5b8\",\"type\":\"PanTool\"},{\"id\":\"3f272914-9c5e-4e4e-8d4e-44d3876410e5\",\"type\":\"WheelZoomTool\"},{\"id\":\"77844f3b-0916-4e14-9f56-f4a01c41b6fa\",\"type\":\"BoxZoomTool\"},{\"id\":\"9fb1471a-242b-4570-b8d0-1623aca9a598\",\"type\":\"SaveTool\"},{\"id\":\"5dd04a1c-e963-4368-881f-532f18b766fa\",\"type\":\"ResetTool\"},{\"id\":\"84bb462e-39fe-4a85-93dc-043745802238\",\"type\":\"HelpTool\"}]},\"id\":\"8fc3a2e7-5863-4b7e-8b46-d79a7a111bc3\",\"type\":\"Toolbar\"},{\"attributes\":{\"data_source\":{\"id\":\"3e5f5f04-5636-4f4d-8b18-54c7624e3807\",\"type\":\"ColumnDataSource\"},\"glyph\":{\"id\":\"7838e24e-ae6e-46b3-8fc0-47f1fde09b82\",\"type\":\"Rect\"},\"hover_glyph\":null,\"nonselection_glyph\":null,\"selection_glyph\":null},\"id\":\"e8a0ed7f-60ca-4ff7-81e2-9d9155017d71\",\"type\":\"GlyphRenderer\"},{\"attributes\":{\"fill_alpha\":{\"field\":\"fill_alpha\"},\"fill_color\":{\"field\":\"color\"},\"height\":{\"field\":\"height\",\"units\":\"data\"},\"line_color\":{\"field\":\"line_color\"},\"width\":{\"field\":\"width\",\"units\":\"data\"},\"x\":{\"field\":\"x\"},\"y\":{\"field\":\"y\"}},\"id\":\"7838e24e-ae6e-46b3-8fc0-47f1fde09b82\",\"type\":\"Rect\"},{\"attributes\":{\"label\":{\"value\":\"6\"},\"renderers\":[{\"id\":\"f0980848-cb89-493f-adc6-62d59a6d0f03\",\"type\":\"GlyphRenderer\"}]},\"id\":\"bf71df03-f15d-4a02-b651-c61c60ab24f2\",\"type\":\"LegendItem\"},{\"attributes\":{\"bottom_units\":\"screen\",\"fill_alpha\":{\"value\":0.5},\"fill_color\":{\"value\":\"lightgrey\"},\"left_units\":\"screen\",\"level\":\"overlay\",\"line_alpha\":{\"value\":1.0},\"line_color\":{\"value\":\"black\"},\"line_dash\":[4,4],\"line_width\":{\"value\":2},\"plot\":null,\"render_mode\":\"css\",\"right_units\":\"screen\",\"top_units\":\"screen\"},\"id\":\"9961c37c-8e06-442a-bbbb-33d2e28447a5\",\"type\":\"BoxAnnotation\"},{\"attributes\":{\"plot\":{\"id\":\"80e4116a-f89c-445a-8e6d-ebe033092ddd\",\"subtype\":\"Chart\",\"type\":\"Plot\"}},\"id\":\"9fb1471a-242b-4570-b8d0-1623aca9a598\",\"type\":\"SaveTool\"},{\"attributes\":{\"callback\":null,\"end\":79.83043478260869},\"id\":\"4fc8b2c1-c2f8-44ac-8d34-739a8987a294\",\"type\":\"Range1d\"},{\"attributes\":{\"fill_alpha\":{\"field\":\"fill_alpha\"},\"fill_color\":{\"field\":\"color\"},\"height\":{\"field\":\"height\",\"units\":\"data\"},\"line_color\":{\"field\":\"line_color\"},\"width\":{\"field\":\"width\",\"units\":\"data\"},\"x\":{\"field\":\"x\"},\"y\":{\"field\":\"y\"}},\"id\":\"656fe1ec-2ebe-472d-b5f2-05fbdcd1dcde\",\"type\":\"Rect\"},{\"attributes\":{\"plot\":{\"id\":\"80e4116a-f89c-445a-8e6d-ebe033092ddd\",\"subtype\":\"Chart\",\"type\":\"Plot\"}},\"id\":\"4c0d0ec3-bac1-4ee4-8543-1af1825bf5b8\",\"type\":\"PanTool\"},{\"attributes\":{\"callback\":null,\"column_names\":[\"line_color\",\"line_alpha\",\"color\",\"fill_alpha\",\"height\",\"width\",\"y\",\"x\",\"label\"],\"data\":{\"chart_index\":[{\"cyl\":4,\"origin\":1}],\"color\":[\"#5ab738\"],\"cyl\":[4],\"fill_alpha\":[0.8],\"height\":[28.013043478260872],\"label\":[{\"cyl\":4,\"origin\":1}],\"line_alpha\":[1.0],\"line_color\":[\"white\"],\"origin\":[1],\"width\":[0.8],\"x\":[\"1\"],\"y\":[48.61483401469899]}},\"id\":\"18deb907-eeb0-4f1e-af1a-b5e72da286f0\",\"type\":\"ColumnDataSource\"},{\"attributes\":{\"callback\":null,\"column_names\":[\"line_color\",\"line_alpha\",\"color\",\"fill_alpha\",\"height\",\"width\",\"y\",\"x\",\"label\"],\"data\":{\"chart_index\":[{\"cyl\":6,\"origin\":1}],\"color\":[\"#df5320\"],\"cyl\":[6],\"fill_alpha\":[0.8],\"height\":[19.645205479452052],\"label\":[{\"cyl\":6,\"origin\":1}],\"line_alpha\":[1.0],\"line_color\":[\"white\"],\"origin\":[1],\"width\":[0.8],\"x\":[\"1\"],\"y\":[24.785709535842532]}},\"id\":\"263bb8f1-38b6-4e7a-8ed4-8b75a870fc8e\",\"type\":\"ColumnDataSource\"},{\"attributes\":{\"fill_alpha\":{\"field\":\"fill_alpha\"},\"fill_color\":{\"field\":\"color\"},\"height\":{\"field\":\"height\",\"units\":\"data\"},\"line_color\":{\"field\":\"line_color\"},\"width\":{\"field\":\"width\",\"units\":\"data\"},\"x\":{\"field\":\"x\"},\"y\":{\"field\":\"y\"}},\"id\":\"09eaf8d3-49de-4544-9e51-3d1e16a31956\",\"type\":\"Rect\"},{\"attributes\":{\"callback\":null,\"factors\":[\"1\",\"2\",\"3\"]},\"id\":\"4d55e4a8-c207-4834-9c3a-74ce6a296e1b\",\"type\":\"FactorRange\"},{\"attributes\":{\"data_source\":{\"id\":\"263bb8f1-38b6-4e7a-8ed4-8b75a870fc8e\",\"type\":\"ColumnDataSource\"},\"glyph\":{\"id\":\"c6b388f5-9d99-4eb7-b9aa-d70d2f857350\",\"type\":\"Rect\"},\"hover_glyph\":null,\"nonselection_glyph\":null,\"selection_glyph\":null},\"id\":\"f0980848-cb89-493f-adc6-62d59a6d0f03\",\"type\":\"GlyphRenderer\"},{\"attributes\":{},\"id\":\"9494890b-2424-43a5-907a-52c405141b17\",\"type\":\"BasicTicker\"},{\"attributes\":{\"label\":{\"value\":\"8\"},\"renderers\":[{\"id\":\"e8a0ed7f-60ca-4ff7-81e2-9d9155017d71\",\"type\":\"GlyphRenderer\"}]},\"id\":\"51de1ba9-1133-49f7-8540-4094cca81e66\",\"type\":\"LegendItem\"},{\"attributes\":{},\"id\":\"8cad11e2-d72f-44ed-9b2e-b3900b3d6877\",\"type\":\"BasicTickFormatter\"},{\"attributes\":{\"plot\":{\"id\":\"80e4116a-f89c-445a-8e6d-ebe033092ddd\",\"subtype\":\"Chart\",\"type\":\"Plot\"}},\"id\":\"84bb462e-39fe-4a85-93dc-043745802238\",\"type\":\"HelpTool\"},{\"attributes\":{\"fill_alpha\":{\"field\":\"fill_alpha\"},\"fill_color\":{\"field\":\"color\"},\"height\":{\"field\":\"height\",\"units\":\"data\"},\"line_color\":{\"field\":\"line_color\"},\"width\":{\"field\":\"width\",\"units\":\"data\"},\"x\":{\"field\":\"x\"},\"y\":{\"field\":\"y\"}},\"id\":\"812df627-cc13-4553-9411-1afe9938e689\",\"type\":\"Rect\"},{\"attributes\":{\"fill_alpha\":{\"field\":\"fill_alpha\"},\"fill_color\":{\"field\":\"color\"},\"height\":{\"field\":\"height\",\"units\":\"data\"},\"line_color\":{\"field\":\"line_color\"},\"width\":{\"field\":\"width\",\"units\":\"data\"},\"x\":{\"field\":\"x\"},\"y\":{\"field\":\"y\"}},\"id\":\"db1d09e3-67e8-444f-8c0c-c95dc00df4d6\",\"type\":\"Rect\"},{\"attributes\":{\"items\":[{\"id\":\"51de1ba9-1133-49f7-8540-4094cca81e66\",\"type\":\"LegendItem\"},{\"id\":\"94fc6af1-a61c-43f2-859d-60601e45d7c8\",\"type\":\"LegendItem\"},{\"id\":\"bf71df03-f15d-4a02-b651-c61c60ab24f2\",\"type\":\"LegendItem\"},{\"id\":\"bca0cd92-39c6-4249-b940-57a84569254d\",\"type\":\"LegendItem\"},{\"id\":\"69ef0295-bc1b-4773-986a-2dfbc7cb0264\",\"type\":\"LegendItem\"}],\"plot\":{\"id\":\"80e4116a-f89c-445a-8e6d-ebe033092ddd\",\"subtype\":\"Chart\",\"type\":\"Plot\"}},\"id\":\"618bbcf7-63f9-4963-9b60-42d56ec14a10\",\"type\":\"Legend\"},{\"attributes\":{\"dimension\":1,\"plot\":{\"id\":\"80e4116a-f89c-445a-8e6d-ebe033092ddd\",\"subtype\":\"Chart\",\"type\":\"Plot\"},\"ticker\":{\"id\":\"9494890b-2424-43a5-907a-52c405141b17\",\"type\":\"BasicTicker\"}},\"id\":\"70e5ab9c-62df-487d-bb30-45548a8cd49d\",\"type\":\"Grid\"},{\"attributes\":{\"data_source\":{\"id\":\"98c51f45-d89c-4193-bd44-e161b5e2b7f3\",\"type\":\"ColumnDataSource\"},\"glyph\":{\"id\":\"656fe1ec-2ebe-472d-b5f2-05fbdcd1dcde\",\"type\":\"Rect\"},\"hover_glyph\":null,\"nonselection_glyph\":null,\"selection_glyph\":null},\"id\":\"2da44893-6497-4a54-ac81-e48058d258ad\",\"type\":\"GlyphRenderer\"},{\"attributes\":{\"label\":{\"value\":\"3\"},\"renderers\":[{\"id\":\"57081b3c-6ed0-425d-978e-28a097ee1e73\",\"type\":\"GlyphRenderer\"}]},\"id\":\"bca0cd92-39c6-4249-b940-57a84569254d\",\"type\":\"LegendItem\"},{\"attributes\":{\"below\":[{\"id\":\"fbdc7ccc-177d-4e69-b422-8118d57ba580\",\"type\":\"CategoricalAxis\"}],\"left\":[{\"id\":\"3fb74006-b398-47da-8509-44eb1f02ab4c\",\"type\":\"LinearAxis\"}],\"renderers\":[{\"id\":\"9961c37c-8e06-442a-bbbb-33d2e28447a5\",\"type\":\"BoxAnnotation\"},{\"id\":\"e8a0ed7f-60ca-4ff7-81e2-9d9155017d71\",\"type\":\"GlyphRenderer\"},{\"id\":\"b79da1dc-6217-4554-8e2e-c6cddac07017\",\"type\":\"GlyphRenderer\"},{\"id\":\"f0980848-cb89-493f-adc6-62d59a6d0f03\",\"type\":\"GlyphRenderer\"},{\"id\":\"077cdf20-5145-40ed-bc01-13adb7aa74aa\",\"type\":\"GlyphRenderer\"},{\"id\":\"095a59d7-bb48-47e5-a777-80294e9110c0\",\"type\":\"GlyphRenderer\"},{\"id\":\"57081b3c-6ed0-425d-978e-28a097ee1e73\",\"type\":\"GlyphRenderer\"},{\"id\":\"56dadc54-dcce-4425-8978-8078e223cc73\",\"type\":\"GlyphRenderer\"},{\"id\":\"2da44893-6497-4a54-ac81-e48058d258ad\",\"type\":\"GlyphRenderer\"},{\"id\":\"7d35c08e-1c7b-4735-921e-f29f25d6085d\",\"type\":\"GlyphRenderer\"},{\"id\":\"618bbcf7-63f9-4963-9b60-42d56ec14a10\",\"type\":\"Legend\"},{\"id\":\"fbdc7ccc-177d-4e69-b422-8118d57ba580\",\"type\":\"CategoricalAxis\"},{\"id\":\"3fb74006-b398-47da-8509-44eb1f02ab4c\",\"type\":\"LinearAxis\"},{\"id\":\"70e5ab9c-62df-487d-bb30-45548a8cd49d\",\"type\":\"Grid\"}],\"title\":{\"id\":\"0dadb96e-e61f-4029-a7df-e251071fb8bd\",\"type\":\"Title\"},\"tool_events\":{\"id\":\"c9f1db4c-9924-4134-9b80-a6540df63b75\",\"type\":\"ToolEvents\"},\"toolbar\":{\"id\":\"8fc3a2e7-5863-4b7e-8b46-d79a7a111bc3\",\"type\":\"Toolbar\"},\"x_mapper_type\":\"auto\",\"x_range\":{\"id\":\"4d55e4a8-c207-4834-9c3a-74ce6a296e1b\",\"type\":\"FactorRange\"},\"y_mapper_type\":\"auto\",\"y_range\":{\"id\":\"4fc8b2c1-c2f8-44ac-8d34-739a8987a294\",\"type\":\"Range1d\"}},\"id\":\"80e4116a-f89c-445a-8e6d-ebe033092ddd\",\"subtype\":\"Chart\",\"type\":\"Plot\"},{\"attributes\":{\"fill_alpha\":{\"field\":\"fill_alpha\"},\"fill_color\":{\"field\":\"color\"},\"height\":{\"field\":\"height\",\"units\":\"data\"},\"line_color\":{\"field\":\"line_color\"},\"width\":{\"field\":\"width\",\"units\":\"data\"},\"x\":{\"field\":\"x\"},\"y\":{\"field\":\"y\"}},\"id\":\"16586e6e-fdc2-4ccd-aa28-c2c48df9adb6\",\"type\":\"Rect\"},{\"attributes\":{\"plot\":{\"id\":\"80e4116a-f89c-445a-8e6d-ebe033092ddd\",\"subtype\":\"Chart\",\"type\":\"Plot\"}},\"id\":\"3f272914-9c5e-4e4e-8d4e-44d3876410e5\",\"type\":\"WheelZoomTool\"},{\"attributes\":{\"callback\":null,\"column_names\":[\"line_color\",\"line_alpha\",\"color\",\"fill_alpha\",\"height\",\"width\",\"y\",\"x\",\"label\"],\"data\":{\"chart_index\":[{\"cyl\":3,\"origin\":3}],\"color\":[\"#f22c40\"],\"cyl\":[3],\"fill_alpha\":[0.8],\"height\":[20.55],\"label\":[{\"cyl\":3,\"origin\":3}],\"line_alpha\":[1.0],\"line_color\":[\"white\"],\"origin\":[3],\"width\":[0.8],\"x\":[\"3\"],\"y\":[41.870652173913044]}},\"id\":\"2254d577-a9fd-4094-91c6-a2ea2fd1fbc5\",\"type\":\"ColumnDataSource\"},{\"attributes\":{\"callback\":null,\"column_names\":[\"line_color\",\"line_alpha\",\"color\",\"fill_alpha\",\"height\",\"width\",\"y\",\"x\",\"label\"],\"data\":{\"chart_index\":[{\"cyl\":5,\"origin\":2}],\"color\":[\"#407ee7\"],\"cyl\":[5],\"fill_alpha\":[0.8],\"height\":[27.366666666666664],\"label\":[{\"cyl\":5,\"origin\":2}],\"line_alpha\":[1.0],\"line_color\":[\"white\"],\"origin\":[2],\"width\":[0.8],\"x\":[\"2\"],\"y\":[61.88989071038251]}},\"id\":\"9c74a3d4-ff83-4828-a5e6-d5e401ffc176\",\"type\":\"ColumnDataSource\"},{\"attributes\":{\"data_source\":{\"id\":\"556917f3-50e1-46e4-a572-eabd59329ac5\",\"type\":\"ColumnDataSource\"},\"glyph\":{\"id\":\"812df627-cc13-4553-9411-1afe9938e689\",\"type\":\"Rect\"},\"hover_glyph\":null,\"nonselection_glyph\":null,\"selection_glyph\":null},\"id\":\"56dadc54-dcce-4425-8978-8078e223cc73\",\"type\":\"GlyphRenderer\"},{\"attributes\":{\"label\":{\"value\":\"5\"},\"renderers\":[{\"id\":\"7d35c08e-1c7b-4735-921e-f29f25d6085d\",\"type\":\"GlyphRenderer\"}]},\"id\":\"69ef0295-bc1b-4773-986a-2dfbc7cb0264\",\"type\":\"LegendItem\"},{\"attributes\":{\"callback\":null,\"column_names\":[\"line_color\",\"line_alpha\",\"color\",\"fill_alpha\",\"height\",\"width\",\"y\",\"x\",\"label\"],\"data\":{\"chart_index\":[{\"cyl\":8,\"origin\":1}],\"color\":[\"#00ad9c\"],\"cyl\":[8],\"fill_alpha\":[0.8],\"height\":[14.963106796116506],\"label\":[{\"cyl\":8,\"origin\":1}],\"line_alpha\":[1.0],\"line_color\":[\"white\"],\"origin\":[1],\"width\":[0.8],\"x\":[\"1\"],\"y\":[7.481553398058253]}},\"id\":\"3e5f5f04-5636-4f4d-8b18-54c7624e3807\",\"type\":\"ColumnDataSource\"},{\"attributes\":{\"plot\":{\"id\":\"80e4116a-f89c-445a-8e6d-ebe033092ddd\",\"subtype\":\"Chart\",\"type\":\"Plot\"}},\"id\":\"5dd04a1c-e963-4368-881f-532f18b766fa\",\"type\":\"ResetTool\"},{\"attributes\":{},\"id\":\"48b789a4-4444-4acb-8ab9-8534e3c8dd6f\",\"type\":\"CategoricalTickFormatter\"},{\"attributes\":{\"data_source\":{\"id\":\"2254d577-a9fd-4094-91c6-a2ea2fd1fbc5\",\"type\":\"ColumnDataSource\"},\"glyph\":{\"id\":\"7304b7af-70dd-4e4e-bca6-c5be0177e775\",\"type\":\"Rect\"},\"hover_glyph\":null,\"nonselection_glyph\":null,\"selection_glyph\":null},\"id\":\"57081b3c-6ed0-425d-978e-28a097ee1e73\",\"type\":\"GlyphRenderer\"},{\"attributes\":{\"callback\":null,\"column_names\":[\"line_color\",\"line_alpha\",\"color\",\"fill_alpha\",\"height\",\"width\",\"y\",\"x\",\"label\"],\"data\":{\"chart_index\":[{\"cyl\":4,\"origin\":2}],\"color\":[\"#5ab738\"],\"cyl\":[4],\"fill_alpha\":[0.8],\"height\":[28.10655737704918],\"label\":[{\"cyl\":4,\"origin\":2}],\"line_alpha\":[1.0],\"line_color\":[\"white\"],\"origin\":[2],\"width\":[0.8],\"x\":[\"2\"],\"y\":[14.05327868852459]}},\"id\":\"d3a19c3c-2961-49ec-9535-010833691fdc\",\"type\":\"ColumnDataSource\"},{\"attributes\":{\"fill_alpha\":{\"field\":\"fill_alpha\"},\"fill_color\":{\"field\":\"color\"},\"height\":{\"field\":\"height\",\"units\":\"data\"},\"line_color\":{\"field\":\"line_color\"},\"width\":{\"field\":\"width\",\"units\":\"data\"},\"x\":{\"field\":\"x\"},\"y\":{\"field\":\"y\"}},\"id\":\"093c1dec-a09e-478c-bead-effa167cccb5\",\"type\":\"Rect\"},{\"attributes\":{\"fill_alpha\":{\"field\":\"fill_alpha\"},\"fill_color\":{\"field\":\"color\"},\"height\":{\"field\":\"height\",\"units\":\"data\"},\"line_color\":{\"field\":\"line_color\"},\"width\":{\"field\":\"width\",\"units\":\"data\"},\"x\":{\"field\":\"x\"},\"y\":{\"field\":\"y\"}},\"id\":\"c6b388f5-9d99-4eb7-b9aa-d70d2f857350\",\"type\":\"Rect\"},{\"attributes\":{},\"id\":\"3461d9ed-e14c-4e05-8189-569f6d0b4c09\",\"type\":\"CategoricalTicker\"},{\"attributes\":{\"callback\":null,\"column_names\":[\"line_color\",\"line_alpha\",\"color\",\"fill_alpha\",\"height\",\"width\",\"y\",\"x\",\"label\"],\"data\":{\"chart_index\":[{\"cyl\":6,\"origin\":2}],\"color\":[\"#df5320\"],\"cyl\":[6],\"fill_alpha\":[0.8],\"height\":[20.1],\"label\":[{\"cyl\":6,\"origin\":2}],\"line_alpha\":[1.0],\"line_color\":[\"white\"],\"origin\":[2],\"width\":[0.8],\"x\":[\"2\"],\"y\":[38.15655737704918]}},\"id\":\"98c51f45-d89c-4193-bd44-e161b5e2b7f3\",\"type\":\"ColumnDataSource\"},{\"attributes\":{\"label\":{\"value\":\"4\"},\"renderers\":[{\"id\":\"b79da1dc-6217-4554-8e2e-c6cddac07017\",\"type\":\"GlyphRenderer\"}]},\"id\":\"94fc6af1-a61c-43f2-859d-60601e45d7c8\",\"type\":\"LegendItem\"},{\"attributes\":{\"callback\":null,\"column_names\":[\"line_color\",\"line_alpha\",\"color\",\"fill_alpha\",\"height\",\"width\",\"y\",\"x\",\"label\"],\"data\":{\"chart_index\":[{\"cyl\":4,\"origin\":3}],\"color\":[\"#5ab738\"],\"cyl\":[4],\"fill_alpha\":[0.8],\"height\":[31.59565217391304],\"label\":[{\"cyl\":4,\"origin\":3}],\"line_alpha\":[1.0],\"line_color\":[\"white\"],\"origin\":[3],\"width\":[0.8],\"x\":[\"3\"],\"y\":[15.79782608695652]}},\"id\":\"0d2386f4-b3b0-4802-9ba2-205fc08ae402\",\"type\":\"ColumnDataSource\"},{\"attributes\":{\"data_source\":{\"id\":\"9c74a3d4-ff83-4828-a5e6-d5e401ffc176\",\"type\":\"ColumnDataSource\"},\"glyph\":{\"id\":\"093c1dec-a09e-478c-bead-effa167cccb5\",\"type\":\"Rect\"},\"hover_glyph\":null,\"nonselection_glyph\":null,\"selection_glyph\":null},\"id\":\"7d35c08e-1c7b-4735-921e-f29f25d6085d\",\"type\":\"GlyphRenderer\"}],\"root_ids\":[\"80e4116a-f89c-445a-8e6d-ebe033092ddd\"]},\"title\":\"Bokeh Application\",\"version\":\"0.12.3\"}};\n",
       "            var render_items = [{\"docid\":\"67df18c9-8ecf-4d86-af73-4a5a9c09a96b\",\"elementid\":\"7ee9d0e7-906b-4cf4-92c7-303a9c05f9b6\",\"modelid\":\"80e4116a-f89c-445a-8e6d-ebe033092ddd\"}];\n",
       "            \n",
       "            Bokeh.embed.embed_items(docs_json, render_items);\n",
       "        });\n",
       "      },\n",
       "      function(Bokeh) {\n",
       "      }\n",
       "    ];\n",
       "  \n",
       "    function run_inline_js() {\n",
       "      \n",
       "      if ((window.Bokeh !== undefined) || (force === \"1\")) {\n",
       "        for (var i = 0; i < inline_js.length; i++) {\n",
       "          inline_js[i](window.Bokeh);\n",
       "        }if (force === \"1\") {\n",
       "          display_loaded();\n",
       "        }} else if (Date.now() < window._bokeh_timeout) {\n",
       "        setTimeout(run_inline_js, 100);\n",
       "      } else if (!window._bokeh_failed_load) {\n",
       "        console.log(\"Bokeh: BokehJS failed to load within specified timeout.\");\n",
       "        window._bokeh_failed_load = true;\n",
       "      } else if (!force) {\n",
       "        var cell = $(\"#7ee9d0e7-906b-4cf4-92c7-303a9c05f9b6\").parents('.cell').data().cell;\n",
       "        cell.output_area.append_execute_result(NB_LOAD_WARNING)\n",
       "      }\n",
       "  \n",
       "    }\n",
       "  \n",
       "    if (window._bokeh_is_loading === 0) {\n",
       "      console.log(\"Bokeh: BokehJS loaded, going straight to plotting\");\n",
       "      run_inline_js();\n",
       "    } else {\n",
       "      load_libs(js_urls, function() {\n",
       "        console.log(\"Bokeh: BokehJS plotting callback run at\", now());\n",
       "        run_inline_js();\n",
       "      });\n",
       "    }\n",
       "  }(this));\n",
       "</script>"
      ]
     },
     "metadata": {},
     "output_type": "display_data"
    }
   ],
   "source": [
    "from bokeh.io import output_notebook\n",
    "from bokeh.charts import Bar, output_file, show, chart\n",
    "from bokeh.sampledata.autompg import autompg as df\n",
    "output_notebook()\n",
    "\n",
    "t = chart.Chart()\n",
    "\n",
    "p = Bar(df, label='origin', values='mpg', agg='mean', stack='cyl',\n",
    "        title=\"Avg MPG by ORIGIN, stacked by CYL\", legend='top_right')\n",
    "\n",
    "show(p)"
   ]
  },
  {
   "cell_type": "code",
   "execution_count": 2,
   "metadata": {
    "collapsed": false
   },
   "outputs": [
    {
     "data": {
      "text/plain": [
       "bokeh.charts.chart.Chart"
      ]
     },
     "execution_count": 2,
     "metadata": {},
     "output_type": "execute_result"
    }
   ],
   "source": [
    "type(p)"
   ]
  },
  {
   "cell_type": "code",
   "execution_count": 3,
   "metadata": {
    "collapsed": true
   },
   "outputs": [],
   "source": [
    "from bokeh.plotting import figure\n",
    "\n",
    "f = figure(title='legend')"
   ]
  },
  {
   "cell_type": "code",
   "execution_count": 4,
   "metadata": {
    "collapsed": false
   },
   "outputs": [
    {
     "data": {
      "text/plain": [
       "bokeh.plotting.figure.Figure"
      ]
     },
     "execution_count": 4,
     "metadata": {},
     "output_type": "execute_result"
    }
   ],
   "source": [
    "type(f)"
   ]
  },
  {
   "cell_type": "code",
   "execution_count": 5,
   "metadata": {
    "collapsed": false
   },
   "outputs": [
    {
     "data": {
      "text/plain": [
       "bokeh.charts.chart.Chart"
      ]
     },
     "execution_count": 5,
     "metadata": {},
     "output_type": "execute_result"
    }
   ],
   "source": [
    "type(t)"
   ]
  },
  {
   "cell_type": "code",
   "execution_count": null,
   "metadata": {
    "collapsed": true
   },
   "outputs": [],
   "source": []
  }
 ],
 "metadata": {
  "kernelspec": {
   "display_name": "Python 2",
   "language": "python",
   "name": "python2"
  },
  "language_info": {
   "codemirror_mode": {
    "name": "ipython",
    "version": 2
   },
   "file_extension": ".py",
   "mimetype": "text/x-python",
   "name": "python",
   "nbconvert_exporter": "python",
   "pygments_lexer": "ipython2",
   "version": "2.7.12"
  }
 },
 "nbformat": 4,
 "nbformat_minor": 1
}
